{
 "cells": [
  {
   "cell_type": "markdown",
   "metadata": {},
   "source": [
    "# Step-02: Master flat, X Y inclinations & spectral line"
   ]
  },
  {
   "cell_type": "markdown",
   "metadata": {},
   "source": [
    "## Import dependencies"
   ]
  },
  {
   "cell_type": "code",
   "execution_count": 1,
   "metadata": {},
   "outputs": [
    {
     "name": "stdout",
     "output_type": "stream",
     "text": [
      "E:/CaII Polarimeter v2\n"
     ]
    }
   ],
   "source": [
    "from __future__ import print_function\n",
    "% gui tk\n",
    "% matplotlib tk\n",
    "from ReductionImports import *\n",
    "setrcParams()\n",
    "INITDIR = getFileFilesDir(2)\n",
    "print(INITDIR)"
   ]
  },
  {
   "cell_type": "markdown",
   "metadata": {},
   "source": [
    "# Matser flat"
   ]
  },
  {
   "cell_type": "markdown",
   "metadata": {},
   "source": [
    "## Inputs\n",
    "> Single file of stack of flats $N \\times Y \\times W $ <br>\n",
    "> Master dark file $Y \\times W$ <br>\n",
    "> Corrected fringe flat $Y \\times W$\n",
    "\n",
    "## Outputs\n",
    "> Master flat file saved in Level-1 directory $Y \\times W$ <br>\n",
    "> Row and column shifts saved in Level-1 directory as text <br>\n",
    "> Line profile saved in Level-1 directory as text <br>\n",
    "\n",
    "## Process\n",
    "> Stack of $N$ number of flat files, master dark are loaded <br>\n",
    "> Flats are averaged then master dark is subtracted <br>\n",
    "> X inclination is corrected by shifting the columns <br>\n",
    "> Column shift values are obtained by tracing the slit profile <br>\n",
    "> Y inclination is corrected by shifting the rows <br>\n",
    "> Row shift values are obtained by tracing a fine spectral line <br>\n",
    "> For this trace, flat is corrected by fringe flat to reduce the contrast of fringes due to _etaloning effect_ <br>\n",
    "> After X, Y inclination corrections, image is aligned and medial spectral line is calculated <br>\n",
    "> Half of rows from middle of top and bottom beams of the image with reduced fringe contrast are used for this <br>\n",
    "> Each row in flat is divided with the line profile <br>\n",
    "> Result is formatted and saved as _FLATMASTER_"
   ]
  },
  {
   "cell_type": "markdown",
   "metadata": {},
   "source": [
    "## Load files"
   ]
  },
  {
   "cell_type": "code",
   "execution_count": 50,
   "metadata": {},
   "outputs": [
    {
     "name": "stdout",
     "output_type": "stream",
     "text": [
      "E:/CaII Polarimeter v2/20180428/Flats/090710_FLAT.fits  is loaded\n"
     ]
    }
   ],
   "source": [
    "FLATFILENAME = getFileFilesDir(0, initialdir = INITDIR,\n",
    "                               filetypes  = (('FITS file', '*FLAT*.FITS'),),\n",
    "                               title = 'Select the stack of flat files...') # Select the file\n",
    "HDU = pf.open(FLATFILENAME)\n",
    "FLAT = HDU[0].data\n",
    "HEAD = HDU[0].header\n",
    "HDU.close()\n",
    "print(FLATFILENAME, ' is loaded')"
   ]
  },
  {
   "cell_type": "code",
   "execution_count": null,
   "metadata": {},
   "outputs": [],
   "source": [
    "DARKFILENAME = getFileFilesDir(0, initialdir = INITDIR,\n",
    "                               filetypes  = (('FITS file', '*DARK*MASTER*.FITS'),),\n",
    "                               title = 'Select the master dark...') # Select the file\n",
    "HDU = pf.open(DARKFILENAME)\n",
    "DARKMASTER = float32(HDU[0].data)\n",
    "DARKHEAD = HDU[0].header\n",
    "HDU.close()\n",
    "print(DARKFILENAME, ' is loaded')"
   ]
  },
  {
   "cell_type": "code",
   "execution_count": null,
   "metadata": {},
   "outputs": [],
   "source": [
    "FRINGFILENAME = getFileFilesDir(0, initialdir = INITDIR,\n",
    "                               filetypes  = (('FITS file', '*FRING*.FITS'),),\n",
    "                               title = 'Select the corrected fringes file...') # Select the file\n",
    "HDU = pf.open(FRINGFILENAME)\n",
    "FRING = float32(HDU[0].data)\n",
    "HDU.close()\n",
    "print(FRINGFILENAME, ' is loaded')"
   ]
  },
  {
   "cell_type": "markdown",
   "metadata": {},
   "source": [
    "## Dark subtraction"
   ]
  },
  {
   "cell_type": "code",
   "execution_count": 53,
   "metadata": {},
   "outputs": [],
   "source": [
    "FLATMEAN = average(FLAT,axis=0)\n",
    "FLATMEAN_DARKCORR = FLATMEAN - DARKMASTER\n",
    "previewImage(FLATMEAN_DARKCORR)"
   ]
  },
  {
   "cell_type": "markdown",
   "metadata": {},
   "source": [
    "## X inclinations"
   ]
  },
  {
   "cell_type": "code",
   "execution_count": 54,
   "metadata": {},
   "outputs": [],
   "source": [
    "MAXSHIFT, EXTENT, UPSAMP = 8, 10, 10 \n",
    "HPIX = FLATMEAN_DARKCORR.shape[1]\n",
    "HORPIX, SHIFT_VER, SHIFTS_VER, SHIFTS_VER_FIT, WEIGHTS = arange(HPIX), zeros(HPIX), zeros(HPIX), zeros(HPIX), ones(HPIX)\n",
    "DISP = copy(FLATMEAN_DARKCORR)\n",
    "figure('Click on the slit profile to trace')\n",
    "imshow(DISP, cmap='gray')\n",
    "PT = map(int, ginput(1)[0])\n",
    "close()\n",
    "REFCOL, YBEG, YEND = PT[0], PT[1]-EXTENT/2, PT[1]+EXTENT/2\n",
    "SLIT_REF = DISP[YBEG:YEND, REFCOL] # Reference slit profile\n",
    "tempR = (SLIT_REF - SLIT_REF.mean())/SLIT_REF.std() # Normalize the reference slit profile\n",
    "for j in HORPIX:\n",
    "    tempV = DISP[YBEG-MAXSHIFT:YEND+MAXSHIFT,j]\n",
    "    WEIGHTS[j] = sqrt(tempV.mean()**2)\n",
    "    tempV = (tempV - tempV.mean())/tempV.std() # Normalize the selected slit profile\n",
    "    # Correlate\n",
    "    CORR = correlate(zoom(tempV, UPSAMP), zoom(tempR, UPSAMP), mode='valid')\n",
    "    SHIFT_VER[j] = argmax(CORR) # Get the index with maximum correlation\n",
    "SHIFT_VER = SHIFT_VER/UPSAMP - MAXSHIFT # Convert the index to pixel shift\n",
    "XFIT_XINC = argwhere(abs(SHIFT_VER)<MAXSHIFT)\n",
    "YFIT_XINC = SHIFT_VER[XFIT_XINC]\n",
    "C = polyfit(XFIT_XINC.ravel(), YFIT_XINC.ravel(), 1, w=nan_to_num(WEIGHTS)[XFIT_XINC].ravel()) # Fit a line\n",
    "# C = polyfit(XFIT_XINC.ravel(), YFIT_XINC.ravel(), 1) # Fit a line\n",
    "SHIFT_VER_FIT = C[0]*HORPIX+C[1] # Use the equation to calculate shifts\n",
    "SHIFT_VER_APPLY = -SHIFT_VER_FIT\n",
    "previewPlot(XFIT_XINC, YFIT_XINC, 'k-', SHIFT_VER_FIT, 'k-')"
   ]
  },
  {
   "cell_type": "code",
   "execution_count": 55,
   "metadata": {},
   "outputs": [],
   "source": [
    "FLATMEAN_XINCCORR = copy(FLATMEAN_DARKCORR) # Declare shift corrected array\n",
    "for i in HORPIX: # Calculate the shift corrected array\n",
    "    shift(FLATMEAN_DARKCORR[:, i], SHIFT_VER_APPLY[i], FLATMEAN_XINCCORR[:, i], mode='nearest')\n",
    "previewImage(FLATMEAN_XINCCORR)"
   ]
  },
  {
   "cell_type": "markdown",
   "metadata": {},
   "source": [
    "## Fringe corrections"
   ]
  },
  {
   "cell_type": "code",
   "execution_count": null,
   "metadata": {},
   "outputs": [],
   "source": [
    "FRING[757:767,840:846] = FRING.mean() # Declare shift corrected array\n",
    "FRING_XINCCORR = copy(FRING)\n",
    "for i in HORPIX: # Calculate the shift corrected array\n",
    "    shift(FRING[:, i], SHIFT_VER_APPLY[i], FRING_XINCCORR[:, i], mode='nearest')\n",
    "FLATMEAN_XINCCORR2 = FLATMEAN_XINCCORR/FRING_XINCCORR\n",
    "previewImage(FLATMEAN_XINCCORR2)"
   ]
  },
  {
   "cell_type": "code",
   "execution_count": 56,
   "metadata": {
    "collapsed": true
   },
   "outputs": [],
   "source": [
    "FLATMEAN_XINCCORR2 = copy(FLATMEAN_XINCCORR)\n",
    "previewImage(FLATMEAN_XINCCORR2)"
   ]
  },
  {
   "cell_type": "markdown",
   "metadata": {},
   "source": [
    "## Y-inclination, distortion"
   ]
  },
  {
   "cell_type": "code",
   "execution_count": 57,
   "metadata": {},
   "outputs": [
    {
     "name": "stderr",
     "output_type": "stream",
     "text": [
      "C:\\Users\\HP-Office\\Anaconda2\\lib\\site-packages\\ipykernel\\__main__.py:17: RuntimeWarning: invalid value encountered in double_scalars\n"
     ]
    }
   ],
   "source": [
    "MAXSHIFT, EXTENT, UPSAMP = 10, 20, 10 \n",
    "VPIX = FLATMEAN_DARKCORR.shape[0] # Total rows\n",
    "VERPIX, SHIFT_HOR, SHIFTS_HOR, SHIFTS_HOR_FIT, WEIGHTS = arange(VPIX), zeros(VPIX), zeros(VPIX), zeros(VPIX), ones(VPIX)\n",
    "DISP = copy(FLATMEAN_XINCCORR2)\n",
    "figure('Click on the spectral line profile to trace')\n",
    "imshow(DISP, cmap='gray')\n",
    "PT = map(int, ginput(1)[0])\n",
    "close()\n",
    "REFROW, XBEG, XEND = PT[1], PT[0]-EXTENT/2, PT[0]+EXTENT/2 \n",
    "LINE_REF = mean(DISP[REFROW-10:REFROW+10,XBEG:XEND], 0) # Reference line profile\n",
    "tempR = (LINE_REF - LINE_REF.mean())/LINE_REF.std() # Normalize the reference line profile\n",
    "for j in VERPIX:\n",
    "    try: \n",
    "        tempV = mean(DISP[j-5:j+5,XBEG-MAXSHIFT:XEND+MAXSHIFT], axis=0)\n",
    "    except: \n",
    "        tempV = DISP[j,XBEG-MAXSHIFT:XEND+MAXSHIFT]\n",
    "    WEIGHTS[j] = sqrt(tempV.mean()**2)\n",
    "    tempV = (tempV - tempV.mean())/tempV.std() # Normalize the selected line profile\n",
    "    CORR = correlate(zoom(tempV, UPSAMP), zoom(tempR, UPSAMP), mode='valid')\n",
    "    SHIFT_HOR[j] = argmax(CORR) # Get the index with maximum correlation\n",
    "SHIFT_HOR = SHIFT_HOR/UPSAMP - MAXSHIFT\n",
    "XFIT_YINC = argwhere((abs(SHIFT_HOR)<MAXSHIFT))\n",
    "YFIT_YINC = SHIFT_VER[XFIT_YINC]\n",
    "C = polyfit(XFIT_YINC.ravel(), YFIT_YINC.ravel(), 2, w=nan_to_num(WEIGHTS)[XFIT_YINC].ravel()) # Fit a line\n",
    "SHIFT_HOR_FIT = C[0]*VERPIX**2+C[1]*VERPIX+C[2] # Use the equation to calculate shifts\n",
    "# XFIT_YINC = argwhere((abs(SHIFT_HOR-SHIFT_HOR_FIT)<3))\n",
    "# YFIT_YINC = gaussian_filter1d(SHIFT_HOR[XFIT_YINC], 10)\n",
    "# C = polyfit(XFIT_YINC.ravel(), YFIT_YINC.ravel(), 2, w=nan_to_num(WEIGHTS)[XFIT_YINC].ravel()) # Fit a line\n",
    "SHIFT_HOR_FIT = C[0]*VERPIX**2+C[1]*VERPIX+C[2] # Use the equation to calculate shifts\n",
    "SHIFT_HOR_APPLY = -SHIFT_HOR_FIT\n",
    "previewPlot(XFIT_YINC, YFIT_YINC, 'k-', SHIFT_HOR_FIT, 'k-')"
   ]
  },
  {
   "cell_type": "code",
   "execution_count": 58,
   "metadata": {},
   "outputs": [],
   "source": [
    "FLATMEAN_YINCCORR = copy(FLATMEAN_XINCCORR) # Declare shift corrected array\n",
    "for i in VERPIX: # Calculate the shift corrected array\n",
    "    shift(FLATMEAN_XINCCORR[i, :], SHIFT_HOR_APPLY[i], FLATMEAN_YINCCORR[i, :], mode='nearest')\n",
    "FLATMEAN_YINCCORR2 = copy(FLATMEAN_XINCCORR2) # Declare shift corrected array\n",
    "for i in VERPIX: # Calculate the shift corrected array\n",
    "    shift(FLATMEAN_XINCCORR2[i, :], SHIFT_HOR_APPLY[i], FLATMEAN_YINCCORR2[i, :], mode='nearest')\n",
    "previewImage(FLATMEAN_YINCCORR2)"
   ]
  },
  {
   "cell_type": "markdown",
   "metadata": {},
   "source": [
    "## Line profile removal"
   ]
  },
  {
   "cell_type": "code",
   "execution_count": 61,
   "metadata": {},
   "outputs": [],
   "source": [
    "ROWS1 = arange(100,400) \n",
    "ROWS2 = arange(600,900)\n",
    "TEMP = append(FLATMEAN_YINCCORR2[ROWS1], FLATMEAN_YINCCORR2[ROWS2], axis=0)\n",
    "LINE_MED = median(TEMP,0) # Median Line Profile\n",
    "LINE_MED_NORM = LINE_MED/LINE_MED.max()  # Normalized median line profile\n",
    "LINE_FILT = gaussian_filter1d(LINE_MED_NORM,2)\n",
    "FLATMEAN_LINECORR = divide(FLATMEAN_YINCCORR, LINE_FILT) # Declare line profile corrected flat"
   ]
  },
  {
   "cell_type": "code",
   "execution_count": 62,
   "metadata": {},
   "outputs": [],
   "source": [
    "previewImage(FLATMEAN_LINECORR)\n",
    "previewPlot(HORPIX, LINE_MED_NORM, HORPIX, LINE_FILT)"
   ]
  },
  {
   "cell_type": "markdown",
   "metadata": {},
   "source": [
    "### Preview and save"
   ]
  },
  {
   "cell_type": "code",
   "execution_count": 63,
   "metadata": {},
   "outputs": [],
   "source": [
    "FIG = figure(None, figsize=(14,12))\n",
    "GRID = GridSpec(4,2)\n",
    "#-------------------------------------------------------------------\n",
    "AX1 = FIG.add_subplot(GRID[0:-1,0])\n",
    "AX1.imshow(FLATMEAN_DARKCORR, cmap='gray', interpolation=None)\n",
    "AX1.plot(HORPIX, SHIFT_VER_FIT+(YBEG+YEND)/2, 'r', lw=1)\n",
    "AX1.locator_params(axis='x', tight=True)\n",
    "AX1.locator_params(axis='y', tight=True)\n",
    "#-------------------------------------------------------------------\n",
    "AX2 = FIG.add_subplot(GRID[0:-1,1])\n",
    "AX2.imshow(FLATMEAN_XINCCORR, cmap='gray', interpolation=None)\n",
    "AX2.plot(SHIFT_HOR_FIT+(XBEG+XEND)/2, VERPIX, 'r', lw=1)\n",
    "AX2.locator_params(axis='x', tight=True)\n",
    "AX2.locator_params(axis='y', tight=True)\n",
    "#-------------------------------------------------------------------\n",
    "AX3 = FIG.add_subplot(GRID[-1,0])\n",
    "AX3.plot(XFIT_XINC,YFIT_XINC, 'k-')\n",
    "AX3.plot(SHIFT_VER_FIT, 'k-', linewidth=1)\n",
    "AX3.locator_params(axis='x', tight=True)\n",
    "AX3.locator_params(axis='y', nbins=5)\n",
    "AX3.set_xlabel('Column number')\n",
    "AX3.set_ylabel('Shift \\n in pixels')\n",
    "#-------------------------------------------------------------------\n",
    "AX4 = FIG.add_subplot(GRID[-1,1])\n",
    "AX4.plot(XFIT_YINC,YFIT_YINC, 'k-')\n",
    "AX4.plot(SHIFT_HOR_FIT, 'k-', linewidth=1)\n",
    "AX4.locator_params(axis='x', tight=True)\n",
    "AX4.locator_params(axis='y', nbins=5)\n",
    "AX4.set_xlabel('Row number')\n",
    "AX4.set_ylabel('Shift \\n in pixels')\n",
    "#-------------------------------------------------------------------\n",
    "savefig('.\\\\Plots\\\\2_Row_col_shifts.png', dpi=600)"
   ]
  },
  {
   "cell_type": "code",
   "execution_count": 64,
   "metadata": {},
   "outputs": [],
   "source": [
    "FIG = figure(num=None, figsize=(12, 6))\n",
    "AX1 = FIG.add_subplot(121)\n",
    "AX2 = FIG.add_subplot(122)\n",
    "AX1.imshow(FLATMEAN, cmap='gray', interpolation=None)\n",
    "AX2.imshow(FLATMEAN_LINECORR, cmap='gray', interpolation=None)\n",
    "tight_layout()\n",
    "savefig('.\\\\Plots\\\\2_Master_flat.png', dpi=600)"
   ]
  },
  {
   "cell_type": "markdown",
   "metadata": {},
   "source": [
    "## Save properly"
   ]
  },
  {
   "cell_type": "code",
   "execution_count": null,
   "metadata": {},
   "outputs": [],
   "source": [
    "CURRPATHSPLIT = os.path.normpath(FLATFILENAME).split(SEP)  # Components of current file - directory tree\n",
    "NEWPATH = os.sep.join(CURRPATHSPLIT[0:-3]) + SEP + 'Level-1'  # New directory\n",
    "DATE = dt.datetime.strftime(dt.datetime.strptime(HEAD['DATE'], '%Y/%m/%d'), '%Y%m%d')\n",
    "DT = dt.datetime.strptime(HEAD['DATE'] + HEAD['TIME'], '%Y/%m/%d' + '%H:%M:%S')\n",
    "TZDIFF = dt.timedelta(hours=5, minutes=30)\n",
    "HEAD['UT'] = dt.datetime.strftime(DT - TZDIFF, '%H:%M:%S')\n",
    "NEWFILENAME = NEWPATH + SEP + DATE + '_' + CURRPATHSPLIT[-1][0:-5] + 'MASTER.fits'\n",
    "print('Master flat saved as ' + NEWFILENAME)\n",
    "NEWTEXTFILENAME = NEWPATH + SEP + DATE + '_' + CURRPATHSPLIT[-1][0:-9] + 'ROWCOL_SHIFTS.txt'\n",
    "print('X- & Y- inclination corrections saved as ' + NEWTEXTFILENAME)\n",
    "NEWLINEFILENAME = NEWPATH + SEP + DATE + '_' + CURRPATHSPLIT[-1][0:-9] + 'LINEPROFILE.txt'\n",
    "print('Line profile  is saved as ' + NEWLINEFILENAME)\n",
    "#--------------------------------------------------------------------------------------------- Create the text file\n",
    "ROWS = len(SHIFT_VER_APPLY) + len(SHIFT_HOR_APPLY) + 3\n",
    "TEXT = array([['-']] * ROWS, dtype='|S100')\n",
    "TEXT[0, 0] = 'Vertical shifts for each column :'\n",
    "TEXT[1:len(SHIFT_VER_APPLY) + 1, 0] = SHIFT_VER_APPLY\n",
    "TEXT[len(SHIFT_VER_APPLY) + 2, 0] = 'Horizonal shifts for each row :'\n",
    "TEXT[len(SHIFT_VER_APPLY) + 3:len(SHIFT_VER_APPLY) + len(SHIFT_HOR_APPLY) + 3, 0] = SHIFT_HOR_APPLY\n",
    "TEXT[where(TEXT == '-')] = '\\t'\n",
    "#---------------------------------------------------------------------------------------------------------- Save it\n",
    "if not os.path.exists(NEWPATH): os.makedirs(NEWPATH)  # Create the new directory if it doesn't exist\n",
    "HDU_MF = pf.PrimaryHDU(data=uint16(FLATMEAN_LINECORR), header=HEAD)  # Create hdu with data and header\n",
    "HDU_MF.writeto(NEWFILENAME, overwrite=True)\n",
    "HDU_IDEAL = pf.PrimaryHDU(data=uint16(ones(FLATMEAN_LINECORR.shape)), header=HEAD)\n",
    "HDU_IDEAL.writeto(NEWFILENAME[0:-5] + '_IDEAL.fits', overwrite=True)\n",
    "TEXTFILE = open(NEWTEXTFILENAME, 'w')  # Write things to new file\n",
    "savetxt(TEXTFILE, TEXT, fmt='{:^20}'.format('%s'), delimiter='\\t')\n",
    "TEXTFILE.close()\n",
    "savetxt(NEWLINEFILENAME, LINE_MED_NORM, fmt='{:^20}'.format('%f'))\n",
    "#--------------------------------------------------------------------------------------------------------- Save line profile"
   ]
  }
 ],
 "metadata": {
  "anaconda-cloud": {},
  "kernelspec": {
   "display_name": "Python 2",
   "language": "python",
   "name": "python2"
  },
  "language_info": {
   "codemirror_mode": {
    "name": "ipython",
    "version": 3
   },
   "file_extension": ".py",
   "mimetype": "text/x-python",
   "name": "python",
   "nbconvert_exporter": "python",
   "pygments_lexer": "ipython3",
   "version": "3.7.1"
  }
 },
 "nbformat": 4,
 "nbformat_minor": 1
}
