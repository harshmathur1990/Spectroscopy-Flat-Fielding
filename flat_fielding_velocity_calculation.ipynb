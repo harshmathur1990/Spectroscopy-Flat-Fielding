{
 "cells": [
  {
   "cell_type": "code",
   "execution_count": 1,
   "metadata": {},
   "outputs": [],
   "source": [
    "%matplotlib tk\n",
    "import numpy as np\n",
    "import matplotlib.pyplot as plt\n",
    "import scipy.ndimage\n",
    "import astropy.io.fits"
   ]
  },
  {
   "cell_type": "code",
   "execution_count": 2,
   "metadata": {},
   "outputs": [],
   "source": [
    "base_path = '/Users/harshmathur/Documents/CourseworkRepo/Spectroscopy Data/'\n",
    "file_format = 'Flat_Prom_20170509_085123070_FORWARD_{}.fits'\n",
    "num_of_files = 18\n",
    "dark_master_path = 'dark_master.fits'"
   ]
  },
  {
   "cell_type": "code",
   "execution_count": 3,
   "metadata": {},
   "outputs": [],
   "source": [
    "filename_list = list()\n",
    "\n",
    "for i in range(1, num_of_files+1):\n",
    "    filename_list.append(\n",
    "        file_format.format(i)\n",
    "    )\n",
    "\n",
    "fits_list = list()\n",
    "\n",
    "for _filename in filename_list:\n",
    "    fits_list.append(\n",
    "        astropy.io.fits.getdata(base_path+_filename)\n",
    "    )"
   ]
  },
  {
   "cell_type": "code",
   "execution_count": 4,
   "metadata": {},
   "outputs": [],
   "source": [
    "averaged_flat = np.average(fits_list, axis=0)"
   ]
  },
  {
   "cell_type": "code",
   "execution_count": 6,
   "metadata": {},
   "outputs": [],
   "source": [
    "dark_master_path = 'dark_master.fits'\n",
    "dark_image = astropy.io.fits.getdata(base_path+dark_master_path)"
   ]
  },
  {
   "cell_type": "code",
   "execution_count": 7,
   "metadata": {},
   "outputs": [
    {
     "data": {
      "text/plain": [
       "array([[880.5929 , 880.72565, 880.34515, ..., 328.37167, 329.8761 ,\n",
       "        328.54868],\n",
       "       [880.1416 , 880.16815, 879.72565, ..., 329.86725, 329.54868,\n",
       "        329.57523],\n",
       "       [879.61945, 880.72565, 880.70795, ..., 331.16815, 330.79645,\n",
       "        332.38937],\n",
       "       ...,\n",
       "       [881.7699 , 881.84955, 881.81415, ..., 879.58405, 878.92035,\n",
       "        878.95575],\n",
       "       [881.6106 , 882.20355, 881.4071 , ..., 879.1416 , 878.8407 ,\n",
       "        878.74335],\n",
       "       [882.0177 , 882.04425, 881.5044 , ..., 879.53094, 879.2832 ,\n",
       "        879.4602 ]], dtype=float32)"
      ]
     },
     "execution_count": 7,
     "metadata": {},
     "output_type": "execute_result"
    }
   ],
   "source": [
    "dark_image"
   ]
  },
  {
   "cell_type": "code",
   "execution_count": 22,
   "metadata": {},
   "outputs": [
    {
     "data": {
      "text/plain": [
       "<matplotlib.image.AxesImage at 0x1128b6358>"
      ]
     },
     "execution_count": 22,
     "metadata": {},
     "output_type": "execute_result"
    }
   ],
   "source": [
    "plt.imshow(dark_image, cmap='gray')"
   ]
  },
  {
   "cell_type": "code",
   "execution_count": 8,
   "metadata": {},
   "outputs": [
    {
     "data": {
      "text/plain": [
       "(1, 1024, 512)"
      ]
     },
     "execution_count": 8,
     "metadata": {},
     "output_type": "execute_result"
    }
   ],
   "source": [
    "averaged_flat.shape"
   ]
  },
  {
   "cell_type": "code",
   "execution_count": 24,
   "metadata": {},
   "outputs": [
    {
     "data": {
      "text/plain": [
       "(1024, 512)"
      ]
     },
     "execution_count": 24,
     "metadata": {},
     "output_type": "execute_result"
    }
   ],
   "source": [
    "dark_image.shape"
   ]
  },
  {
   "cell_type": "code",
   "execution_count": 9,
   "metadata": {},
   "outputs": [],
   "source": [
    "averaged_flat = averaged_flat[0]"
   ]
  },
  {
   "cell_type": "code",
   "execution_count": 26,
   "metadata": {},
   "outputs": [
    {
     "data": {
      "text/plain": [
       "(1024, 512)"
      ]
     },
     "execution_count": 26,
     "metadata": {},
     "output_type": "execute_result"
    }
   ],
   "source": [
    "averaged_flat.shape"
   ]
  },
  {
   "cell_type": "code",
   "execution_count": 10,
   "metadata": {},
   "outputs": [],
   "source": [
    "dark_corrected_averaged_flat = averaged_flat - dark_image"
   ]
  },
  {
   "cell_type": "code",
   "execution_count": 31,
   "metadata": {},
   "outputs": [
    {
     "data": {
      "text/plain": [
       "<matplotlib.image.AxesImage at 0x1128541d0>"
      ]
     },
     "execution_count": 31,
     "metadata": {},
     "output_type": "execute_result"
    }
   ],
   "source": [
    "plt.imshow(fits_list[0][0], cmap='gray')\n"
   ]
  },
  {
   "cell_type": "code",
   "execution_count": 11,
   "metadata": {},
   "outputs": [],
   "source": [
    "max_shift, extent, up_sampling = 8, 10, 10\n",
    "\n",
    "h_pix = dark_corrected_averaged_flat.shape[1]\n",
    "\n",
    "display = dark_corrected_averaged_flat.copy()\n",
    "\n",
    "plt.imshow(display, cmap='gray')\n",
    "\n",
    "point = list(map(int, plt.ginput(1)[0]))\n"
   ]
  },
  {
   "cell_type": "code",
   "execution_count": 34,
   "metadata": {},
   "outputs": [
    {
     "data": {
      "text/plain": [
       "111"
      ]
     },
     "execution_count": 34,
     "metadata": {},
     "output_type": "execute_result"
    }
   ],
   "source": [
    "point[0]"
   ]
  },
  {
   "cell_type": "code",
   "execution_count": 12,
   "metadata": {},
   "outputs": [
    {
     "data": {
      "text/plain": [
       "[56, 297]"
      ]
     },
     "execution_count": 12,
     "metadata": {},
     "output_type": "execute_result"
    }
   ],
   "source": [
    "point"
   ]
  },
  {
   "cell_type": "code",
   "execution_count": 13,
   "metadata": {},
   "outputs": [],
   "source": [
    "ref_col, y_beg, y_end = point[0], point[1] - extent / 2, point[1] + extent / 2\n",
    "\n",
    "slit_ref = display[int(y_beg):int(y_end), ref_col]\n",
    "\n",
    "normalised_slit = (slit_ref - slit_ref.mean()) / slit_ref.std()  # Normalize the selected slit profile\n",
    "\n",
    "weights = np.zeros(shape=h_pix)\n",
    "\n",
    "shift_ver = np.zeros(shape=h_pix)"
   ]
  },
  {
   "cell_type": "code",
   "execution_count": 14,
   "metadata": {},
   "outputs": [],
   "source": [
    "for j in np.arange(h_pix):\n",
    "    _slit = display[int(y_beg) - max_shift:int(y_end) + max_shift, j]\n",
    "    weights[j] = abs(_slit.mean())\n",
    "    _slit_normalised = (_slit - _slit.mean()) / _slit.std()  # Normalize the selected slit profile\n",
    "    # Correlate\n",
    "    correlation = np.correlate(\n",
    "        scipy.ndimage.zoom(\n",
    "            _slit_normalised,\n",
    "            up_sampling\n",
    "        ),\n",
    "        scipy.ndimage.zoom(\n",
    "            normalised_slit,\n",
    "            up_sampling\n",
    "        ),\n",
    "        mode='valid'\n",
    "    )\n",
    "    shift_ver[j] = np.argmax(correlation) "
   ]
  },
  {
   "cell_type": "code",
   "execution_count": 39,
   "metadata": {},
   "outputs": [
    {
     "data": {
      "text/plain": [
       "array([114., 105., 102., 104., 146., 149., 144., 144., 139., 133.,  81.,\n",
       "        82.,  80.,  79.,  80.,  80.,  80.,  80., 100.,  81.,  81.,  81.,\n",
       "        80.,  82., 102., 102., 102., 103.,  82.,  82.,  81.,  81., 106.,\n",
       "       105., 106., 104., 107., 105., 100.,  84., 103., 105., 105., 108.,\n",
       "       107., 108., 101., 105., 106.,  80., 102., 145., 142., 142., 144.,\n",
       "       137., 145., 145., 145., 147.,  80.,  79.,  80.,  79.,  81.,  80.,\n",
       "        80.,  81.,  81., 100.,  83.,  80.,  79.,  79.,  78., 145.,  81.,\n",
       "        81.,  81.,  80.,  79.,  79.,  78.,  79.,  80.,  81.,  83.,  81.,\n",
       "        81.,  81.,  81., 144., 145., 107., 103., 100.,  84., 101.,  81.,\n",
       "        80.,  79.,  51.,  80.,  80.,  82., 102., 102.,  81.,  80.,  79.,\n",
       "        79.,  52.,  80.,  82.,  81.,  80.,  79.,  79.,  79.,  80., 143.,\n",
       "       136.,  80.,  81.,  81.,  83.,  79.,  78.,  77., 143., 140., 128.,\n",
       "       105.,  81.,  80.,  79.,  79.,  78.,  79.,  80.,  81.,  81.,  79.,\n",
       "        79.,  78.,  79.,  80., 100., 103., 101.,  83.,  80.,  80.,  79.,\n",
       "        81.,  81.,  80.,  81.,  82., 103., 106., 104.,  83.,  81.,  81.,\n",
       "       134.,  81.,  82.,  84.,  81.,  80.,  81.,  80.,  79., 140., 143.,\n",
       "       139., 143., 142., 137.,  79.,  78.,  50., 144., 146.,  47., 137.,\n",
       "        79.,  48.,  49.,  47.,  50.,  48.,  49.,  48.,  77.,  79.,  77.,\n",
       "        78.,  49.,  47.,  79.,  80.,  77.,  78.,  80.,  79.,  78.,  80.,\n",
       "        79.,  81.,  80.,  80.,  80.,  79.,  81.,  80.,  79., 134., 141.,\n",
       "       142., 134., 108.,  97.,  81.,  80.,  48.,  47.,  43.,  48.,  80.,\n",
       "        78.,  77., 137.,  49.,  49.,  50.,  51.,  81.,  81.,  80.,  81.,\n",
       "        79.,  79.,  80.,  51.,  50.,  48.,  78.,  78.,  51.,  48.,  77.,\n",
       "        50.,  50.,  79.,  80.,  79.,  79.,  79.,  50.,  79.,  78.,  78.,\n",
       "        78.,  80.,  79.,  80.,  80.,  79.,  77.,  79.,  50.,  45.,  77.,\n",
       "        50.,  48.,  48.,  48.,  47.,  47.,  78.,  79.,  79.,  79.,  49.,\n",
       "        47.,  49.,  47.,  48.,  79.,  78.,  79.,  49.,  48.,  47.,  46.,\n",
       "        47.,  39.,  43.,  49.,  47.,  47.,  48.,  46.,  45.,  44.,  47.,\n",
       "        48.,  47.,  48.,  47.,  44.,  42.,  44.,  46.,  48.,  48.,  48.,\n",
       "        47.,  49.,  79., 160., 151.,  78.,  49.,  47.,  46.,  49.,  48.,\n",
       "        78.,  80.,  50.,  79.,  78.,  78.,  79.,  78.,  47.,  49.,  78.,\n",
       "        77.,  78.,  80.,  78.,  49.,  49., 141., 128., 106.,  81.,  77.,\n",
       "        49.,  46.,  37.,  30.,  44.,  44.,  46.,  38.,  39.,  35.,  36.,\n",
       "        46.,  44.,  45.,  42.,  39.,  45.,  42.,  46.,  41.,  47.,  46.,\n",
       "        45.,  48.,  48.,  48.,  45.,  48.,  51.,  49.,  48.,  49.,  49.,\n",
       "        45.,  79.,  48.,  48.,  48.,  75.,  76.,  48.,  48.,  46.,  36.,\n",
       "       145., 141., 147.,  79.,  78.,  47.,  47.,  47.,  45.,  36.,  46.,\n",
       "        45.,  49.,  47.,  46.,  42.,  45.,  47.,  45.,  43.,  44.,  44.,\n",
       "        43.,  33.,  44.,  40.,  46.,  45.,  44.,  39.,  32.,  30.,  45.,\n",
       "        45.,  46.,  44.,  29.,  33.,  46.,  46.,  45.,  46.,  48.,  46.,\n",
       "        50.,  47.,  42.,  42.,  30.,  35.,  46.,  30.,  41.,  47.,  46.,\n",
       "        46.,  46.,  46.,  44.,  32.,  38.,  44.,  47.,  45.,  45.,  46.,\n",
       "        47.,  46.,  47.,  46.,  47.,  47.,  46., 143., 151., 146., 142.,\n",
       "       143.,  47.,  44.,  45.,  45.,  39.,  35.,  41.,  28.,  45.,  48.,\n",
       "        44.,  42.,  29.,  34.,  40.,  48.,  45.,  46.,  35.,  41.,  27.,\n",
       "       152.,  47.,  48.,  46.,  48.,  50.,  50.,  45.,  46.,  43.,  48.,\n",
       "        47.,  47.,  45.,  44., 152., 152.])"
      ]
     },
     "execution_count": 39,
     "metadata": {},
     "output_type": "execute_result"
    }
   ],
   "source": [
    "shift_ver"
   ]
  },
  {
   "cell_type": "code",
   "execution_count": 40,
   "metadata": {},
   "outputs": [],
   "source": [
    "plt.plot(shift_ver)\n",
    "plt.show()"
   ]
  },
  {
   "cell_type": "code",
   "execution_count": 15,
   "metadata": {},
   "outputs": [],
   "source": [
    "shift_ver = shift_ver / up_sampling - max_shift  # Convert the index to pixel shift\n",
    "\n",
    "xfit_xinc = np.argwhere(abs(shift_ver) < max_shift)\n",
    "\n",
    "yfit_yinc = shift_ver[xfit_xinc]\n",
    "\n",
    "line_fit = np.polyfit(xfit_xinc.ravel(), yfit_yinc.ravel(), 1, w=np.nan_to_num(weights)[xfit_xinc].ravel())  # Fit a line\n",
    "\n",
    "shift_ver_fit = line_fit[0] * np.arange(h_pix) + line_fit[1]\n",
    "\n",
    "shift_ver_apply = -shift_ver_fit\n",
    "\n",
    "plt.plot(xfit_xinc, yfit_yinc, 'k-', shift_ver_fit, 'k-')\n",
    "\n",
    "plt.show()"
   ]
  },
  {
   "cell_type": "code",
   "execution_count": 17,
   "metadata": {},
   "outputs": [],
   "source": [
    "x_corrected = dark_corrected_averaged_flat.copy()\n",
    "\n",
    "for i in np.arange(h_pix):  # Calculate the shift corrected array\n",
    "    scipy.ndimage.shift(dark_corrected_averaged_flat[:, i], shift_ver_apply[i], x_corrected[:, i], mode='nearest')\n",
    "\n",
    "plt.imshow(x_corrected, cmap='gray')\n",
    "\n",
    "plt.show()"
   ]
  },
  {
   "cell_type": "code",
   "execution_count": 18,
   "metadata": {},
   "outputs": [
    {
     "name": "stderr",
     "output_type": "stream",
     "text": [
      "/usr/local/lib/python3.7/site-packages/matplotlib/figure.py:98: MatplotlibDeprecationWarning: \n",
      "Adding an axes using the same arguments as a previous axes currently reuses the earlier instance.  In a future version, a new instance will always be created and returned.  Meanwhile, this warning can be suppressed, and the future behavior ensured, by passing a unique label to each axes instance.\n",
      "  \"Adding an axes using the same arguments as a previous axes \"\n"
     ]
    }
   ],
   "source": [
    "plt.subplot(121)\n",
    "plt.imshow(dark_corrected_averaged_flat, cmap='gray')\n",
    "plt.subplot(122)\n",
    "plt.imshow(x_corrected, cmap='gray')\n",
    "plt.show()"
   ]
  },
  {
   "cell_type": "code",
   "execution_count": 21,
   "metadata": {},
   "outputs": [],
   "source": [
    "max_shift, extent, up_sampling = 10, 20, 10\n",
    "\n",
    "v_pix = dark_corrected_averaged_flat.shape[0]\n",
    "\n",
    "display = x_corrected.copy()\n",
    "\n",
    "plt.imshow(display, cmap='gray')\n",
    "\n",
    "point = list(map(int, plt.ginput(1)[0]))\n",
    "\n",
    "ref_row, x_beg, x_end = int(point[1]), int(point[0] - extent / 2), int(point[0] + extent / 2)\n",
    "\n",
    "line_ref = np.mean(display[int(ref_row) - 10:int(ref_row) + 10, int(x_beg):int(x_end)], 0)  # Reference line profile\n",
    "\n",
    "normalised_line = (line_ref - line_ref.mean())/line_ref.std()  # Normalize the reference line profile\n",
    "\n",
    "weights = np.zeros(shape=v_pix)\n",
    "\n",
    "shift_hor = np.zeros(shape=v_pix)"
   ]
  },
  {
   "cell_type": "code",
   "execution_count": 20,
   "metadata": {},
   "outputs": [
    {
     "data": {
      "text/plain": [
       "[111, 330]"
      ]
     },
     "execution_count": 20,
     "metadata": {},
     "output_type": "execute_result"
    }
   ],
   "source": [
    "point"
   ]
  },
  {
   "cell_type": "code",
   "execution_count": 23,
   "metadata": {},
   "outputs": [],
   "source": [
    "for j in np.arange(v_pix):\n",
    "    if 5 <= j < v_pix-5:\n",
    "        _line = np.mean(display[j - 5:j + 5, x_beg - max_shift:x_end + max_shift], axis=0)\n",
    "    else:\n",
    "        _line = display[j, x_beg - max_shift:x_end + max_shift]\n",
    "    weights[j] = abs(_line.mean())\n",
    "    _line_normalised = (_line - _line.mean()) / _line.std()  # Normalize the selected line profile\n",
    "    correlation = np.correlate(\n",
    "        scipy.ndimage.zoom(\n",
    "            _line_normalised,\n",
    "            up_sampling\n",
    "        ),\n",
    "        scipy.ndimage.zoom(\n",
    "            normalised_line,\n",
    "            up_sampling\n",
    "        ),\n",
    "        mode='valid'\n",
    "    )\n",
    "    shift_hor[j] = np.argmax(correlation)  # Get the index with maximum correlation\n",
    "shift_hor = shift_hor / up_sampling - max_shift\n",
    "xfit_yinc = np.argwhere((abs(shift_hor) < max_shift))\n",
    "yfit_yinc = shift_hor[xfit_yinc]\n",
    "polynomial_fit = np.polyfit(xfit_yinc.ravel(), yfit_yinc.ravel(), 2, w=np.nan_to_num(weights)[xfit_yinc].ravel())  # Fit a line\n",
    "shift_hor_fit = polynomial_fit[0] * np.arange(v_pix) ** 2 + polynomial_fit[1] * np.arange(v_pix) + np.arange(v_pix)[2]  # Use the equation to calculate shifts\n",
    "shift_hor_apply = -shift_hor_fit"
   ]
  },
  {
   "cell_type": "code",
   "execution_count": 24,
   "metadata": {},
   "outputs": [],
   "source": [
    "plt.plot(xfit_yinc, yfit_yinc, 'k-', shift_hor_fit, 'k-')\n",
    "plt.show()"
   ]
  },
  {
   "cell_type": "code",
   "execution_count": 25,
   "metadata": {},
   "outputs": [],
   "source": [
    "y_corrected = x_corrected.copy()\n",
    "\n",
    "for i in np.arange(v_pix):\n",
    "    scipy.ndimage.shift(\n",
    "        x_corrected[i, :],\n",
    "        shift_hor_apply[i],\n",
    "        y_corrected[i, :],\n",
    "        mode='nearest'\n",
    "    )\n",
    "\n",
    "plt.imshow(y_corrected, cmap='gray')\n",
    "\n",
    "plt.show()"
   ]
  },
  {
   "cell_type": "code",
   "execution_count": 26,
   "metadata": {},
   "outputs": [],
   "source": [
    "plt.subplot(121)\n",
    "plt.imshow(dark_corrected_averaged_flat, cmap='gray')\n",
    "plt.subplot(122)\n",
    "plt.imshow(y_corrected, cmap='gray')\n",
    "plt.show()"
   ]
  },
  {
   "cell_type": "code",
   "execution_count": 28,
   "metadata": {},
   "outputs": [],
   "source": [
    "rows_1 = np.arange(100, 400)\n",
    "rows_2 = np.arange(600, 900)\n",
    "\n",
    "cropped_array = np.append(y_corrected[rows_1], y_corrected[rows_2], axis=0)\n",
    "\n",
    "line_median = np.median(cropped_array, axis=0)\n",
    "\n",
    "line_median_normalised = line_median / line_median.max()\n",
    "\n",
    "line_filter = scipy.ndimage.gaussian_filter1d(line_median_normalised, 2)\n",
    "\n",
    "flat_line_removed = np.divide(y_corrected, line_filter)\n",
    "\n",
    "plt.imshow(flat_line_removed, cmap='gray')\n",
    "\n",
    "plt.show()"
   ]
  },
  {
   "cell_type": "code",
   "execution_count": 27,
   "metadata": {},
   "outputs": [],
   "source": [
    "plt.close()"
   ]
  },
  {
   "cell_type": "code",
   "execution_count": 32,
   "metadata": {},
   "outputs": [],
   "source": [
    "hdu = astropy.io.fits.PrimaryHDU(flat_line_removed)\n",
    "hdul = astropy.io.fits.HDUList([hdu])\n",
    "hdul.writeto('my_flat_master.fits')\n",
    "\n",
    "# sunpy.io.fits.write('my_flat_master.fits', data=flat_line_removed)\n"
   ]
  },
  {
   "cell_type": "code",
   "execution_count": 33,
   "metadata": {},
   "outputs": [],
   "source": [
    "raw_filename = 'KTT_Prom_20170509_075115500_FORWARD_3.fits'\n",
    "flat_master = 'my_flat_master.fits'"
   ]
  },
  {
   "cell_type": "code",
   "execution_count": 34,
   "metadata": {},
   "outputs": [],
   "source": [
    "raw_data = astropy.io.fits.getdata(base_path+raw_filename)\n",
    "#data, header = sunpy.io.fits.read(base_path+raw_filename)[0]\n",
    "flat_data = flat_line_removed"
   ]
  },
  {
   "cell_type": "code",
   "execution_count": 35,
   "metadata": {},
   "outputs": [
    {
     "data": {
      "text/plain": [
       "(1, 512, 512)"
      ]
     },
     "execution_count": 35,
     "metadata": {},
     "output_type": "execute_result"
    }
   ],
   "source": [
    "raw_data.shape"
   ]
  },
  {
   "cell_type": "code",
   "execution_count": 36,
   "metadata": {},
   "outputs": [],
   "source": [
    "raw_data = raw_data[0]"
   ]
  },
  {
   "cell_type": "code",
   "execution_count": 37,
   "metadata": {},
   "outputs": [
    {
     "data": {
      "text/plain": [
       "(512, 512)"
      ]
     },
     "execution_count": 37,
     "metadata": {},
     "output_type": "execute_result"
    }
   ],
   "source": [
    "raw_data.shape"
   ]
  },
  {
   "cell_type": "code",
   "execution_count": 39,
   "metadata": {},
   "outputs": [
    {
     "data": {
      "text/plain": [
       "(1024, 512)"
      ]
     },
     "execution_count": 39,
     "metadata": {},
     "output_type": "execute_result"
    }
   ],
   "source": [
    "flat_line_removed.shape"
   ]
  },
  {
   "cell_type": "code",
   "execution_count": 45,
   "metadata": {},
   "outputs": [],
   "source": [
    "binned_flat = np.zeros(shape=(512, 512))\n",
    "i = 0\n",
    "j = 0\n",
    "while i < 1024:\n",
    "    binned_flat[j] = np.add(flat_data[i], flat_data[i+1])\n",
    "    i +=2\n",
    "    j+=1\n"
   ]
  },
  {
   "cell_type": "code",
   "execution_count": 44,
   "metadata": {},
   "outputs": [
    {
     "data": {
      "text/plain": [
       "'my_flat_master.fits'"
      ]
     },
     "execution_count": 44,
     "metadata": {},
     "output_type": "execute_result"
    }
   ],
   "source": [
    "flat_master"
   ]
  },
  {
   "cell_type": "code",
   "execution_count": 47,
   "metadata": {},
   "outputs": [
    {
     "data": {
      "text/plain": [
       "(512, 512)"
      ]
     },
     "execution_count": 47,
     "metadata": {},
     "output_type": "execute_result"
    }
   ],
   "source": [
    "binned_flat.shape"
   ]
  },
  {
   "cell_type": "code",
   "execution_count": 48,
   "metadata": {},
   "outputs": [],
   "source": [
    "plt.imshow(binned_flat, cmap='gray')\n",
    "plt.show()"
   ]
  },
  {
   "cell_type": "code",
   "execution_count": 49,
   "metadata": {},
   "outputs": [
    {
     "data": {
      "text/plain": [
       "(512, 512)"
      ]
     },
     "execution_count": 49,
     "metadata": {},
     "output_type": "execute_result"
    }
   ],
   "source": [
    "raw_data.shape"
   ]
  },
  {
   "cell_type": "code",
   "execution_count": 50,
   "metadata": {},
   "outputs": [],
   "source": [
    "binned_dark = np.zeros(shape=(512, 512))\n",
    "i = 0\n",
    "j = 0\n",
    "while i < 1024:\n",
    "    binned_dark[j] = np.add(dark_image[i], dark_image[i+1])\n",
    "    i +=2\n",
    "    j+=1\n"
   ]
  },
  {
   "cell_type": "code",
   "execution_count": 52,
   "metadata": {},
   "outputs": [],
   "source": [
    "raw_corrected = np.divide(raw_data-binned_dark, binned_flat)"
   ]
  },
  {
   "cell_type": "code",
   "execution_count": 53,
   "metadata": {},
   "outputs": [],
   "source": [
    "plt.imshow(raw_corrected, cmap='gray')\n",
    "plt.show()"
   ]
  },
  {
   "cell_type": "code",
   "execution_count": 54,
   "metadata": {},
   "outputs": [],
   "source": [
    "plt.plot(raw_corrected[250])\n",
    "plt.show()"
   ]
  },
  {
   "cell_type": "code",
   "execution_count": 58,
   "metadata": {},
   "outputs": [],
   "source": [
    "flat_corrected = np.divide(fits_list[0][0]-dark_image, flat_line_removed)"
   ]
  },
  {
   "cell_type": "code",
   "execution_count": 60,
   "metadata": {},
   "outputs": [],
   "source": [
    "plt.imshow(flat_corrected, cmap='gray')\n",
    "plt.show()"
   ]
  },
  {
   "cell_type": "code",
   "execution_count": 61,
   "metadata": {},
   "outputs": [],
   "source": [
    "plt.plot(flat_corrected[250])\n",
    "plt.show()"
   ]
  },
  {
   "cell_type": "code",
   "execution_count": 62,
   "metadata": {},
   "outputs": [],
   "source": [
    "plt.plot(raw_corrected[250])\n",
    "plt.show()"
   ]
  },
  {
   "cell_type": "code",
   "execution_count": null,
   "metadata": {},
   "outputs": [],
   "source": []
  }
 ],
 "metadata": {
  "kernelspec": {
   "display_name": "Python 3",
   "language": "python",
   "name": "python3"
  },
  "language_info": {
   "codemirror_mode": {
    "name": "ipython",
    "version": 3
   },
   "file_extension": ".py",
   "mimetype": "text/x-python",
   "name": "python",
   "nbconvert_exporter": "python",
   "pygments_lexer": "ipython3",
   "version": "3.7.1"
  }
 },
 "nbformat": 4,
 "nbformat_minor": 2
}
